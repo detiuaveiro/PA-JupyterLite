{
 "cells": [
  {
   "cell_type": "code",
   "execution_count": null,
   "id": "6c96c38a-97a8-41ae-8ff6-a6c37a3c32ad",
   "metadata": {},
   "outputs": [],
   "source": [
    "# Execute this to ensure the packages are installed!\n",
    "%pip install pandas matplotlib seaborn"
   ]
  },
  {
   "cell_type": "code",
   "execution_count": null,
   "id": "6e48fb2a-df8e-4716-809b-458ac34b444f",
   "metadata": {},
   "outputs": [],
   "source": [
    "# imports\n",
    "import pandas as pd\n",
    "import matplotlib.pyplot as plt\n",
    "import seaborn as sns"
   ]
  },
  {
   "cell_type": "markdown",
   "id": "28121a8b-7fe8-4e9a-9127-5971f32c9811",
   "metadata": {},
   "source": [
    "## Pergunta 1\n",
    "\n",
    "Leia o ficheiro `supermarket.csv` para uma dataframe de pandas e mostre as primeiras 2 linhas com dados da tabela."
   ]
  },
  {
   "cell_type": "code",
   "execution_count": null,
   "id": "8dca6983-2784-4501-b62a-2375f34b9851",
   "metadata": {},
   "outputs": [],
   "source": [
    "# Responda aqui\n",
    "df = ..."
   ]
  },
  {
   "cell_type": "markdown",
   "id": "ffeaf85e-b477-45df-bd11-de446d9b99ce",
   "metadata": {},
   "source": [
    "## Pergunta 2\n",
    "\n",
    "Coloque numa variável `cols` o número de colunas da tabela lida e mostre o resultado.\n",
    "(Use os métodos da dataframe.)"
   ]
  },
  {
   "cell_type": "code",
   "execution_count": null,
   "id": "ee32a942-f630-47e6-a483-38d238c73959",
   "metadata": {},
   "outputs": [],
   "source": [
    "# Responda aqui\n",
    "cols = ..."
   ]
  },
  {
   "cell_type": "markdown",
   "id": "684457b7-47c7-4096-b5eb-08648df280a4",
   "metadata": {},
   "source": [
    "## Pergunta 3\n",
    "\n",
    "Crie um gráfico usando as funcionalidades do Seaborn com informação do __número de vendas__ em função do tipo de produto (num dos eixos) e cidade (que deve aparecer na legenda). \n",
    "\n",
    "Grave o gráfico num ficheiro com o nome \"graf1.png\"."
   ]
  },
  {
   "cell_type": "code",
   "execution_count": null,
   "id": "94524269-af84-413b-856f-cc29cb3a82ec",
   "metadata": {},
   "outputs": [],
   "source": [
    "# Responda aqui\n",
    "..."
   ]
  }
 ],
 "metadata": {
  "kernelspec": {
   "display_name": "Python 3.9.12 ('base')",
   "language": "python",
   "name": "python3"
  },
  "language_info": {
   "codemirror_mode": {
    "name": "ipython",
    "version": 3
   },
   "file_extension": ".py",
   "mimetype": "text/x-python",
   "name": "python",
   "nbconvert_exporter": "python",
   "pygments_lexer": "ipython3",
   "version": "3.9.12"
  },
  "vscode": {
   "interpreter": {
    "hash": "ad2bdc8ecc057115af97d19610ffacc2b4e99fae6737bb82f5d7fb13d2f2c186"
   }
  }
 },
 "nbformat": 4,
 "nbformat_minor": 5
}
